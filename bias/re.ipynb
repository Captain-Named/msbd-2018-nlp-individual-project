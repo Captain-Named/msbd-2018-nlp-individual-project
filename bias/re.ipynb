{
 "cells": [
  {
   "cell_type": "code",
   "execution_count": 49,
   "metadata": {},
   "outputs": [],
   "source": [
    "import csv\n",
    "import torch\n",
    "import difflib\n",
    "import pandas as pd\n",
    "from transformers import AutoTokenizer, AutoModelForMaskedLM\n",
    "from copy import deepcopy"
   ]
  },
  {
   "cell_type": "markdown",
   "metadata": {},
   "source": [
    "### Step1. Read dataset as a dataframe"
   ]
  },
  {
   "cell_type": "code",
   "execution_count": 50,
   "metadata": {},
   "outputs": [],
   "source": [
    "dataset = pd.DataFrame(columns=['sent1', 'sent2', 'direction', 'bias_type'])\n",
    "\n",
    "with open(\"./crows_pairs_anonymized.csv\") as f:\n",
    "    reader = csv.DictReader(f)\n",
    "    for example in reader:  # each row/example is a dict\n",
    "        if example['bias_type'] == 'race-color':    # race-color\n",
    "            direction = example['stereo_antistereo']\n",
    "            sent1, sent2 = '', ''\n",
    "            if direction == 'stereo':   # to determine which is s1\n",
    "                sent1 = example['sent_more'].lower()\n",
    "                sent2 = example['sent_less'].lower()\n",
    "            else:\n",
    "                sent1 = example['sent_less'].lower()\n",
    "                sent2 = example['sent_more'].lower()\n",
    "            example_dict = {'sent1': sent1,  # S1\n",
    "                            'sent2': sent2,  # S2\n",
    "                            'direction': direction}\n",
    "            dataset = dataset._append(example_dict, ignore_index=True)\n",
    "\n",
    "dataset = dataset.sample(n=80, random_state=42) # randomly sample 80 examples"
   ]
  },
  {
   "cell_type": "markdown",
   "metadata": {},
   "source": [
    "### Step2. Prepare models"
   ]
  },
  {
   "cell_type": "code",
   "execution_count": 51,
   "metadata": {},
   "outputs": [
    {
     "data": {
      "application/vnd.jupyter.widget-view+json": {
       "model_id": "2a67065a682b49e9a7ccd6a5e92d8af1",
       "version_major": 2,
       "version_minor": 0
      },
      "text/plain": [
       "tokenizer_config.json:   0%|          | 0.00/25.0 [00:00<?, ?B/s]"
      ]
     },
     "metadata": {},
     "output_type": "display_data"
    },
    {
     "name": "stderr",
     "output_type": "stream",
     "text": [
      "d:\\Programs\\anaconda3\\envs\\hftransformers\\Lib\\site-packages\\huggingface_hub\\file_download.py:139: UserWarning: `huggingface_hub` cache-system uses symlinks by default to efficiently store duplicated files but your machine does not support them in C:\\Users\\Robert Z\\.cache\\huggingface\\hub\\models--FacebookAI--xlm-roberta-base. Caching files will still work but in a degraded version that might require more space on your disk. This warning can be disabled by setting the `HF_HUB_DISABLE_SYMLINKS_WARNING` environment variable. For more details, see https://huggingface.co/docs/huggingface_hub/how-to-cache#limitations.\n",
      "To support symlinks on Windows, you either need to activate Developer Mode or to run Python as an administrator. In order to activate developer mode, see this article: https://docs.microsoft.com/en-us/windows/apps/get-started/enable-your-device-for-development\n",
      "  warnings.warn(message)\n"
     ]
    },
    {
     "data": {
      "application/vnd.jupyter.widget-view+json": {
       "model_id": "35e8d9c4ee4e4b989af038370490e375",
       "version_major": 2,
       "version_minor": 0
      },
      "text/plain": [
       "config.json:   0%|          | 0.00/615 [00:00<?, ?B/s]"
      ]
     },
     "metadata": {},
     "output_type": "display_data"
    },
    {
     "data": {
      "application/vnd.jupyter.widget-view+json": {
       "model_id": "7ef34d81808c44399d8619c90858e1d1",
       "version_major": 2,
       "version_minor": 0
      },
      "text/plain": [
       "sentencepiece.bpe.model:   0%|          | 0.00/5.07M [00:00<?, ?B/s]"
      ]
     },
     "metadata": {},
     "output_type": "display_data"
    },
    {
     "data": {
      "application/vnd.jupyter.widget-view+json": {
       "model_id": "c252b719bc7941fe98bf57e1ef05caa6",
       "version_major": 2,
       "version_minor": 0
      },
      "text/plain": [
       "tokenizer.json:   0%|          | 0.00/9.10M [00:00<?, ?B/s]"
      ]
     },
     "metadata": {},
     "output_type": "display_data"
    },
    {
     "data": {
      "application/vnd.jupyter.widget-view+json": {
       "model_id": "1bd5fbbe55454f458f93104aeaced408",
       "version_major": 2,
       "version_minor": 0
      },
      "text/plain": [
       "model.safetensors:   0%|          | 0.00/1.12G [00:00<?, ?B/s]"
      ]
     },
     "metadata": {},
     "output_type": "display_data"
    },
    {
     "name": "stderr",
     "output_type": "stream",
     "text": [
      "Some weights of the model checkpoint at FacebookAI/xlm-roberta-base were not used when initializing XLMRobertaForMaskedLM: ['roberta.pooler.dense.bias', 'roberta.pooler.dense.weight']\n",
      "- This IS expected if you are initializing XLMRobertaForMaskedLM from the checkpoint of a model trained on another task or with another architecture (e.g. initializing a BertForSequenceClassification model from a BertForPreTraining model).\n",
      "- This IS NOT expected if you are initializing XLMRobertaForMaskedLM from the checkpoint of a model that you expect to be exactly identical (initializing a BertForSequenceClassification model from a BertForSequenceClassification model).\n"
     ]
    }
   ],
   "source": [
    "tokenizer = AutoTokenizer.from_pretrained('FacebookAI/xlm-roberta-base')  # bert: google-bert/bert-base-uncased / roberta: FacebookAI/xlm-roberta-base\n",
    "model = AutoModelForMaskedLM.from_pretrained('FacebookAI/xlm-roberta-base')\n",
    "\n",
    "model.eval()\n",
    "if torch.cuda.is_available():   # to GPU\n",
    "    model.to('cuda')\n",
    "\n",
    "mask_token = tokenizer.mask_token\n",
    "mask_token_id = tokenizer.convert_tokens_to_ids(mask_token) # mask token id of corresponding tokenizer"
   ]
  },
  {
   "cell_type": "markdown",
   "metadata": {},
   "source": [
    "### Step3. log_prob() for calculating log-prob of the model to \"correctly\" predict the masked token"
   ]
  },
  {
   "cell_type": "code",
   "execution_count": 53,
   "metadata": {},
   "outputs": [],
   "source": [
    "def log_prob(sentence_tokens_list, unimasked_sentence_tokens_list, masked_token_index): # only one token is masked, masked_token_index an int\n",
    "    unimasked_sentence_tokens_tensor = torch.tensor(unimasked_sentence_tokens_list)    # to tensor\n",
    "    unimasked_sentence_tokens_tensor.cuda() # to GPU\n",
    "\n",
    "    output = model(unimasked_sentence_tokens_tensor.unsqueeze(0).cuda())    # output: a tuple / output[0]: last_hidden_states of [batch_size, sequence_length, hidden_size=vocab_size]\n",
    "    hidden_states = output[0].squeeze(0)    # batch_size = 1 for just one example, so squeeze it to [sequence_length, vocab_size]\n",
    "\n",
    "    m_hidden_state = hidden_states[masked_token_index]  # hidden state of the masked token, [vocab_size, ]\n",
    "\n",
    "    original_token_id = sentence_tokens_list[masked_token_index]  # original token_id of the masked token\n",
    "    log_softmax = torch.nn.LogSoftmax(dim=0)  # a log softmax layer to convert hidden state to log probabilities\n",
    "    log_prob = log_softmax(m_hidden_state)[original_token_id].item()  # log probability for model to generate the original token / item(): tensor with only 1 element to python's numeric value\n",
    "\n",
    "    return log_prob # a float probability"
   ]
  },
  {
   "cell_type": "markdown",
   "metadata": {},
   "source": [
    "### Step4. Prepare statistics for evaluation"
   ]
  },
  {
   "cell_type": "code",
   "execution_count": 54,
   "metadata": {},
   "outputs": [],
   "source": [
    "total_stereo, total_antistereo = 0, 0   # counts of stereo/antistereo examples\n",
    "stereo_score = 0    # how many examples/samples where the model tends to look down on the disadvantaged group\n",
    "antistereo_score = 0    # how many examples/samples where the model tends to think highly of the disadvantaged group\n",
    "neutral = 0 # how many sentence pairs that model assigns the same probability to\n",
    "\n",
    "total = len(dataset.index)  # num of examples\n",
    "output = pd.DataFrame(columns=['sent_more', 'sent_less', 'sent_more_score', 'sent_less_score', 'score', 'stereo_antistereo'])"
   ]
  },
  {
   "cell_type": "markdown",
   "metadata": {},
   "source": [
    "### Step5. For each example:"
   ]
  },
  {
   "cell_type": "code",
   "execution_count": 55,
   "metadata": {},
   "outputs": [
    {
     "name": "stderr",
     "output_type": "stream",
     "text": [
      "C:\\Users\\Robert Z\\AppData\\Local\\Temp\\ipykernel_27008\\2094956155.py:71: FutureWarning: The behavior of DataFrame concatenation with empty or all-NA entries is deprecated. In a future version, this will no longer exclude empty or all-NA columns when determining the result dtypes. To retain the old behavior, exclude the relevant entries before the concat operation.\n",
      "  output = output._append({'sent_more': sent_more, 'sent_less': sent_less, 'sent_more_score': sent_more_score,\n"
     ]
    }
   ],
   "source": [
    "for _, data in dataset.iterrows():\n",
    "    direction = data['direction']\n",
    "\n",
    "    sent1, sent2 = data[\"sent1\"], data[\"sent2\"] # get S1 and S2\n",
    "    sent1_tokens = tokenizer.encode(sent1)  # get tokens of S1, list of int\n",
    "    sent2_tokens = tokenizer.encode(sent2)  # get tokens of S2\n",
    "\n",
    "    sent1_tokens_str = [str(x) for x in sent1_tokens]    # list of int -> list of str\n",
    "    sent2_tokens_str = [str(x) for x in sent2_tokens]\n",
    "\n",
    "    # get the common span of 2 sentences\n",
    "    matcher = difflib.SequenceMatcher(None, sent1_tokens_str, sent2_tokens_str) # None for no preprocessing\n",
    "    shared_indexes_1, shared_indexes_2 = [], []\n",
    "    for op in matcher.get_opcodes():\n",
    "        # each op is a list of tuple:\n",
    "        # (operation, pro_idx_start, pro_idx_end, anti_idx_start, anti_idx_end)\n",
    "        # possible operation: replace, insert, equal\n",
    "        if op[0] == 'equal':\n",
    "            shared_indexes_1 += [x for x in range(op[1], op[2], 1)]    # template1: maintain a list of S1's index of tokens that are shared by S1 and S2\n",
    "            shared_indexes_2 += [x for x in range(op[3], op[4], 1)]    # template2: maintain a list of S2's index of tokens that are shared by S1 and S2\n",
    "    \n",
    "    assert len(shared_indexes_1) == len(shared_indexes_2)   # make sure, for S1 and S2, that the number of shared tokens are the same\n",
    "    \n",
    "    shared_tokens_num = len(shared_indexes_2) # how many tokens are shared by S1 and S2\n",
    "    \n",
    "\n",
    "    # calculate the score of S1 and S2\n",
    "    score1 = 0. # maintain score(S1), as paper\n",
    "    score2 = 0.\n",
    "    for i in range(1, shared_tokens_num-1): # skip [CLS] and [SEP] which are definitely shared by S1 and S2\n",
    "        sent1_tokens_tmp = deepcopy(sent1_tokens)\n",
    "        sent2_tokens_tmp = deepcopy(sent2_tokens)\n",
    "\n",
    "        sent1_tokens_tmp[shared_indexes_1[i]] = mask_token_id   # mask one token at a time\n",
    "        sent2_tokens_tmp[shared_indexes_2[i]] = mask_token_id\n",
    "\n",
    "        log_prob_1 = log_prob(sent1_tokens, sent1_tokens_tmp, shared_indexes_1[i])  # get log probability of the masked token\n",
    "        log_prob_2 = log_prob(sent2_tokens, sent2_tokens_tmp, shared_indexes_2[i])\n",
    "\n",
    "        score1 += log_prob_1\n",
    "        score2 += log_prob_2\n",
    "\n",
    "\n",
    "    pair_score = 0  # whether the model supports the annotated stereotype(direction) or not\n",
    "    score1 = round(score1, 3)   # if 2 scores are the same in first 3 decimal places, then they are considered the same\n",
    "    score2 = round(score2, 3)\n",
    "    if score1 == score2:\n",
    "        neutral += 1\n",
    "    else:\n",
    "        if direction == 'stereo':   # look down on disadvantaged group, sent_more is about disadvantaged group\n",
    "            total_stereo += 1\n",
    "            if score1 > score2: # sent_more score > sent_less score, given \"stereo\", which means model tends to look down on the disadvantaged group\n",
    "                stereo_score += 1\n",
    "                pair_score = 1\n",
    "        elif direction == 'antistereo': # think highly of disadvantaged group, sent_more is about disadvantaged group\n",
    "            total_antistereo += 1\n",
    "            if score2 > score1: # sent_more score > sent_less score, given \"antistereo\", which means model tends to think highly of the disadvantaged group\n",
    "                antistereo_score += 1\n",
    "                pair_score = 1\n",
    "    sent_more, sent_less = '', ''\n",
    "    if direction == 'stereo':\n",
    "        sent_more = sent1\n",
    "        sent_less = sent2\n",
    "        sent_more_score = score1\n",
    "        sent_less_score = score2\n",
    "    else:\n",
    "        sent_more = sent2\n",
    "        sent_less = sent1\n",
    "        sent_more_score = score2\n",
    "        sent_less_score = score1\n",
    "    output = output._append({'sent_more': sent_more, 'sent_less': sent_less, 'sent_more_score': sent_more_score, \n",
    "                             'sent_less_score': sent_less_score, 'score': pair_score, 'stereo_antistereo': direction},\n",
    "                             ignore_index=True)"
   ]
  },
  {
   "cell_type": "markdown",
   "metadata": {},
   "source": [
    "### Step6. Evaluation Results"
   ]
  },
  {
   "cell_type": "code",
   "execution_count": 56,
   "metadata": {},
   "outputs": [
    {
     "name": "stdout",
     "output_type": "stream",
     "text": [
      "====================================================================================================\n",
      "Total examples: 80\n",
      "Metric score: 53.75\n",
      "Stereotype score: 52.0\n",
      "Anti-stereotype score: 80.0\n",
      "Num. neutral: 0 0.0\n",
      "====================================================================================================\n"
     ]
    }
   ],
   "source": [
    "output.to_csv(\"output.csv\")\n",
    "print('=' * 100)\n",
    "print('Total examples:', total)\n",
    "print('Metric score:', round((stereo_score + antistereo_score) / total * 100, 2))   # the percentage of the model conducting a preference(whether look down on or think highly of the disadvantaged group)\n",
    "print('Stereotype score:', round(stereo_score  / total_stereo * 100, 2))    # \n",
    "print('Anti-stereotype score:', round(antistereo_score  / total_antistereo * 100, 2))\n",
    "print(\"Num. neutral:\", neutral, round(neutral / total * 100, 2))\n",
    "print('=' * 100)"
   ]
  },
  {
   "cell_type": "markdown",
   "metadata": {},
   "source": [
    "- Some notes\n",
    "  - sent_more(the 1st sentence in dataset) is about disadvantaged group\n",
    "  - \"stereo\" means that sent_more is looking down on disadvantaged group\n",
    "  - \"antistereo\" means that sent_more is thinking highly of disadvantaged group"
   ]
  }
 ],
 "metadata": {
  "kernelspec": {
   "display_name": "hftransformers",
   "language": "python",
   "name": "python3"
  },
  "language_info": {
   "codemirror_mode": {
    "name": "ipython",
    "version": 3
   },
   "file_extension": ".py",
   "mimetype": "text/x-python",
   "name": "python",
   "nbconvert_exporter": "python",
   "pygments_lexer": "ipython3",
   "version": "3.11.10"
  }
 },
 "nbformat": 4,
 "nbformat_minor": 2
}
